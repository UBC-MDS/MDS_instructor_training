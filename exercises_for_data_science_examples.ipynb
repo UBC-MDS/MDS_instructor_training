{
 "cells": [
  {
   "cell_type": "code",
   "execution_count": 29,
   "metadata": {},
   "outputs": [],
   "source": [
    "# setup\n",
    "library(tidyverse)\n",
    "library(testthat)"
   ]
  },
  {
   "cell_type": "markdown",
   "metadata": {},
   "source": [
    "## Code and run\n",
    "*Learners asked to write code that produces a specified output.*\n",
    "\n",
    "Calculate the mean fuel efficiecy (miles per gallon: `mpg`) for 6 and 8 cylinder cars from the `mtcars` data set. The object you return should be a data frame with two columns, cylinder & mean fuel efficiency. "
   ]
  },
  {
   "cell_type": "code",
   "execution_count": 5,
   "metadata": {},
   "outputs": [
    {
     "data": {
      "text/html": [
       "<table>\n",
       "<thead><tr><th></th><th scope=col>mpg</th><th scope=col>cyl</th><th scope=col>disp</th><th scope=col>hp</th><th scope=col>drat</th><th scope=col>wt</th><th scope=col>qsec</th><th scope=col>vs</th><th scope=col>am</th><th scope=col>gear</th><th scope=col>carb</th></tr></thead>\n",
       "<tbody>\n",
       "\t<tr><th scope=row>Mazda RX4</th><td>21.0 </td><td>6    </td><td>160  </td><td>110  </td><td>3.90 </td><td>2.620</td><td>16.46</td><td>0    </td><td>1    </td><td>4    </td><td>4    </td></tr>\n",
       "\t<tr><th scope=row>Mazda RX4 Wag</th><td>21.0 </td><td>6    </td><td>160  </td><td>110  </td><td>3.90 </td><td>2.875</td><td>17.02</td><td>0    </td><td>1    </td><td>4    </td><td>4    </td></tr>\n",
       "\t<tr><th scope=row>Datsun 710</th><td>22.8 </td><td>4    </td><td>108  </td><td> 93  </td><td>3.85 </td><td>2.320</td><td>18.61</td><td>1    </td><td>1    </td><td>4    </td><td>1    </td></tr>\n",
       "\t<tr><th scope=row>Hornet 4 Drive</th><td>21.4 </td><td>6    </td><td>258  </td><td>110  </td><td>3.08 </td><td>3.215</td><td>19.44</td><td>1    </td><td>0    </td><td>3    </td><td>1    </td></tr>\n",
       "\t<tr><th scope=row>Hornet Sportabout</th><td>18.7 </td><td>8    </td><td>360  </td><td>175  </td><td>3.15 </td><td>3.440</td><td>17.02</td><td>0    </td><td>0    </td><td>3    </td><td>2    </td></tr>\n",
       "\t<tr><th scope=row>Valiant</th><td>18.1 </td><td>6    </td><td>225  </td><td>105  </td><td>2.76 </td><td>3.460</td><td>20.22</td><td>1    </td><td>0    </td><td>3    </td><td>1    </td></tr>\n",
       "</tbody>\n",
       "</table>\n"
      ],
      "text/latex": [
       "\\begin{tabular}{r|lllllllllll}\n",
       "  & mpg & cyl & disp & hp & drat & wt & qsec & vs & am & gear & carb\\\\\n",
       "\\hline\n",
       "\tMazda RX4 & 21.0  & 6     & 160   & 110   & 3.90  & 2.620 & 16.46 & 0     & 1     & 4     & 4    \\\\\n",
       "\tMazda RX4 Wag & 21.0  & 6     & 160   & 110   & 3.90  & 2.875 & 17.02 & 0     & 1     & 4     & 4    \\\\\n",
       "\tDatsun 710 & 22.8  & 4     & 108   &  93   & 3.85  & 2.320 & 18.61 & 1     & 1     & 4     & 1    \\\\\n",
       "\tHornet 4 Drive & 21.4  & 6     & 258   & 110   & 3.08  & 3.215 & 19.44 & 1     & 0     & 3     & 1    \\\\\n",
       "\tHornet Sportabout & 18.7  & 8     & 360   & 175   & 3.15  & 3.440 & 17.02 & 0     & 0     & 3     & 2    \\\\\n",
       "\tValiant & 18.1  & 6     & 225   & 105   & 2.76  & 3.460 & 20.22 & 1     & 0     & 3     & 1    \\\\\n",
       "\\end{tabular}\n"
      ],
      "text/markdown": [
       "\n",
       "| <!--/--> | mpg | cyl | disp | hp | drat | wt | qsec | vs | am | gear | carb | \n",
       "|---|---|---|---|---|---|\n",
       "| Mazda RX4 | 21.0  | 6     | 160   | 110   | 3.90  | 2.620 | 16.46 | 0     | 1     | 4     | 4     | \n",
       "| Mazda RX4 Wag | 21.0  | 6     | 160   | 110   | 3.90  | 2.875 | 17.02 | 0     | 1     | 4     | 4     | \n",
       "| Datsun 710 | 22.8  | 4     | 108   |  93   | 3.85  | 2.320 | 18.61 | 1     | 1     | 4     | 1     | \n",
       "| Hornet 4 Drive | 21.4  | 6     | 258   | 110   | 3.08  | 3.215 | 19.44 | 1     | 0     | 3     | 1     | \n",
       "| Hornet Sportabout | 18.7  | 8     | 360   | 175   | 3.15  | 3.440 | 17.02 | 0     | 0     | 3     | 2     | \n",
       "| Valiant | 18.1  | 6     | 225   | 105   | 2.76  | 3.460 | 20.22 | 1     | 0     | 3     | 1     | \n",
       "\n",
       "\n"
      ],
      "text/plain": [
       "                  mpg  cyl disp hp  drat wt    qsec  vs am gear carb\n",
       "Mazda RX4         21.0 6   160  110 3.90 2.620 16.46 0  1  4    4   \n",
       "Mazda RX4 Wag     21.0 6   160  110 3.90 2.875 17.02 0  1  4    4   \n",
       "Datsun 710        22.8 4   108   93 3.85 2.320 18.61 1  1  4    1   \n",
       "Hornet 4 Drive    21.4 6   258  110 3.08 3.215 19.44 1  0  3    1   \n",
       "Hornet Sportabout 18.7 8   360  175 3.15 3.440 17.02 0  0  3    2   \n",
       "Valiant           18.1 6   225  105 2.76 3.460 20.22 1  0  3    1   "
      ]
     },
     "metadata": {},
     "output_type": "display_data"
    }
   ],
   "source": [
    "head(mtcars)"
   ]
  },
  {
   "cell_type": "code",
   "execution_count": 13,
   "metadata": {},
   "outputs": [
    {
     "data": {
      "text/html": [
       "<table>\n",
       "<thead><tr><th scope=col>cyl</th><th scope=col>mean_mgp</th></tr></thead>\n",
       "<tbody>\n",
       "\t<tr><td>6       </td><td>19.74286</td></tr>\n",
       "\t<tr><td>8       </td><td>15.10000</td></tr>\n",
       "</tbody>\n",
       "</table>\n"
      ],
      "text/latex": [
       "\\begin{tabular}{r|ll}\n",
       " cyl & mean\\_mgp\\\\\n",
       "\\hline\n",
       "\t 6        & 19.74286\\\\\n",
       "\t 8        & 15.10000\\\\\n",
       "\\end{tabular}\n"
      ],
      "text/markdown": [
       "\n",
       "cyl | mean_mgp | \n",
       "|---|---|\n",
       "| 6        | 19.74286 | \n",
       "| 8        | 15.10000 | \n",
       "\n",
       "\n"
      ],
      "text/plain": [
       "  cyl mean_mgp\n",
       "1 6   19.74286\n",
       "2 8   15.10000"
      ]
     },
     "metadata": {},
     "output_type": "display_data"
    }
   ],
   "source": [
    "### BEGIN SOLUTION\n",
    "mtcars %>% \n",
    "    filter(cyl == 6 | cyl == 8) %>% \n",
    "    group_by(cyl) %>% \n",
    "    summarise(mean_mgp = mean(mpg))\n",
    "### END SOLUTION"
   ]
  },
  {
   "cell_type": "markdown",
   "metadata": {},
   "source": [
    "## Fill in the Blanks\n",
    "\n",
    "*Learners given some starter code and has to complete it so that the code produces a specified output.* \n",
    "\n",
    "Complete the code provided below to calculate the minimum and maximum horsepower for cars of each gear from the `mtcars` data set. The object you return should be a data frame with three columns, gear as well as minimum and maximum horsepower."
   ]
  },
  {
   "cell_type": "code",
   "execution_count": null,
   "metadata": {},
   "outputs": [],
   "source": [
    "#mtcars %>% \n",
    "#    group_by(...) %>% \n",
    "#    summarise(...)"
   ]
  },
  {
   "cell_type": "code",
   "execution_count": 56,
   "metadata": {},
   "outputs": [
    {
     "data": {
      "text/html": [
       "<table>\n",
       "<thead><tr><th scope=col>gear</th><th scope=col>min_hp</th><th scope=col>max_hp</th></tr></thead>\n",
       "<tbody>\n",
       "\t<tr><td>3  </td><td>97 </td><td>245</td></tr>\n",
       "\t<tr><td>4  </td><td>52 </td><td>123</td></tr>\n",
       "\t<tr><td>5  </td><td>91 </td><td>335</td></tr>\n",
       "</tbody>\n",
       "</table>\n"
      ],
      "text/latex": [
       "\\begin{tabular}{r|lll}\n",
       " gear & min\\_hp & max\\_hp\\\\\n",
       "\\hline\n",
       "\t 3   & 97  & 245\\\\\n",
       "\t 4   & 52  & 123\\\\\n",
       "\t 5   & 91  & 335\\\\\n",
       "\\end{tabular}\n"
      ],
      "text/markdown": [
       "\n",
       "gear | min_hp | max_hp | \n",
       "|---|---|---|\n",
       "| 3   | 97  | 245 | \n",
       "| 4   | 52  | 123 | \n",
       "| 5   | 91  | 335 | \n",
       "\n",
       "\n"
      ],
      "text/plain": [
       "  gear min_hp max_hp\n",
       "1 3    97     245   \n",
       "2 4    52     123   \n",
       "3 5    91     335   "
      ]
     },
     "metadata": {},
     "output_type": "display_data"
    }
   ],
   "source": [
    "### BEGIN SOLUTION\n",
    "mtcars %>% \n",
    "    group_by(gear) %>% \n",
    "    summarise(min_hp = min(hp),\n",
    "             max_hp = max(hp))\n",
    "### END SOLUTION"
   ]
  },
  {
   "cell_type": "markdown",
   "metadata": {},
   "source": [
    "## Inverting Code & Run\n",
    "*Learners asked to write tests to determine whether a piece of code conforms to a spec.*\n",
    "\n",
    "The function `celsius_to_fahr` converts temperature from Celsius to Fahrenheit. For example, given the input 23, the output should be 73.4. And given the input -40, the output should be -40. Write and run unit tests for this function, and if there is a bug identified, fix it."
   ]
  },
  {
   "cell_type": "code",
   "execution_count": 62,
   "metadata": {},
   "outputs": [],
   "source": [
    "celsius_to_fahr <- function(temp) {\n",
    "    fahr <- (temp * (9 / 5)) - 32\n",
    "    return(fahr)\n",
    "}"
   ]
  },
  {
   "cell_type": "code",
   "execution_count": 50,
   "metadata": {},
   "outputs": [
    {
     "ename": "ERROR",
     "evalue": "Error: Test failed: 'Fahrenheit should be 73.4 when Celsius is 23'\n* celsius_to_fahr(23) not equal to 73.4.\n1/1 mismatches\n[1] 9.4 - 73.4 == -64\n",
     "output_type": "error",
     "traceback": [
      "Error: Test failed: 'Fahrenheit should be 73.4 when Celsius is 23'\n* celsius_to_fahr(23) not equal to 73.4.\n1/1 mismatches\n[1] 9.4 - 73.4 == -64\nTraceback:\n",
      "1. test_that(\"Fahrenheit should be 73.4 when Celsius is 23\", expect_equal(celsius_to_fahr(23), \n .     73.4))",
      "2. test_code(desc, code, env = parent.frame())",
      "3. get_reporter()$end_test(context = get_reporter()$.context, test = test)",
      "4. stop(\"Test failed: '\", test, \"'\\n\", messages, call. = FALSE)"
     ]
    }
   ],
   "source": [
    "### BEGIN SOLUTION\n",
    "test_that(\"Fahrenheit should be 73.4 when Celsius is 23\", expect_equal(celsius_to_fahr(23), 73.4))\n",
    "test_that(\"Celsius and Fahrenheit should meet at -40\", expect_equal(celsius_to_fahr(-40), -40))\n",
    "### END SOLUTION"
   ]
  },
  {
   "cell_type": "markdown",
   "metadata": {},
   "source": [
    "## Parsons Problem\n",
    "\n",
    "*Learners given lines of code that need to be rearranged to generate a specified output*\n",
    "\n",
    "Eearrange the commented lines below to get working code that would create a scatter plot of the weight and height columns of the `race_horses` data set, not plotting the rows where the horse breed is listed as a Clydesdale. *Bonus - add the correct indentation to the code as well!*\n",
    "\n",
    "```\n",
    "ggplot(aes(x = height, y = weight, colour = breed)) +\n",
    "race_horses %>% \n",
    "filter(breed != 'Clydesdale') %>% \n",
    "library(tidyverse)\n",
    "geom_point()\n",
    "```"
   ]
  },
  {
   "cell_type": "markdown",
   "metadata": {},
   "source": [
    "### BEGIN SOLUTION\n",
    "```\n",
    "library(tidyverse)\n",
    "race_horses %>% \n",
    "    filter(breed != 'Clydesdale') %>%\n",
    "    ggplot(aes(x = height, y = weight, colour = breed)) +\n",
    "        geom_point()\n",
    "```\n",
    "### END SOLUTION"
   ]
  },
  {
   "cell_type": "markdown",
   "metadata": {},
   "source": [
    "## Tracing (execution)\n",
    "*Given a few lines of code, the learner has to trace the order in which those lines are executed.*\n",
    "\n",
    "\n",
    "Consider the code presented below. Trace the executation of this code and write down the line numbers in the order the code is executed.\n",
    "\n",
    "```\n",
    "1. for (i in 1:4) {\n",
    "2.   if (i < 2) \n",
    "3.     next\n",
    "4.   print(i)\n",
    "5.   if (i >= 3)\n",
    "6.     break\n",
    "7. }\n",
    "```"
   ]
  },
  {
   "cell_type": "markdown",
   "metadata": {},
   "source": [
    "### BEGIN SOLUTION\n",
    "1\n",
    "2\n",
    "3\n",
    "1\n",
    "2\n",
    "3\n",
    "1\n",
    "2\n",
    "3\n",
    "4\n",
    "5\n",
    "1\n",
    "2\n",
    "3\n",
    "4\n",
    "5\n",
    "6\n",
    "### END SOLUTION"
   ]
  },
  {
   "cell_type": "markdown",
   "metadata": {},
   "source": [
    "## Tracing (values)\n",
    "*Given a few lines of code, the learner lists the values that one or more variables take on as the program runs.*\n",
    "\n",
    "Consider the code below. For each line of code state the numerical value of `a`.\n",
    "\n",
    "```\n",
    "1. a <- 5\n",
    "2. b <- 6\n",
    "3. a <- b\n",
    "4. b <- 10\n",
    "```"
   ]
  },
  {
   "cell_type": "markdown",
   "metadata": {},
   "source": [
    "### BEGIN SOLUTION\n",
    "1. 5\n",
    "2. 5\n",
    "3. 6\n",
    "4. 6\n",
    "### END SOLUTION"
   ]
  },
  {
   "cell_type": "markdown",
   "metadata": {},
   "source": [
    "## Minimal Fix\n",
    "*Given a few lines of code that contain a bug, the learner must find it and make one small change to fix it.*"
   ]
  },
  {
   "cell_type": "markdown",
   "metadata": {},
   "source": [
    "Consider and try to run the code below. Identify any bugs and fix them."
   ]
  },
  {
   "cell_type": "code",
   "execution_count": 71,
   "metadata": {},
   "outputs": [
    {
     "ename": "ERROR",
     "evalue": "Error in rnorm(10, means[[i]]): invalid arguments\n",
     "output_type": "error",
     "traceback": [
      "Error in rnorm(10, means[[i]]): invalid arguments\nTraceback:\n",
      "1. rnorm(10, means[[i]])"
     ]
    }
   ],
   "source": [
    "means <- c()\n",
    "out <- vector(\"list\", length(means))\n",
    "for (i in 1:length(means)) {\n",
    "  out[[i]] <- rnorm(10, means[[i]])\n",
    "}"
   ]
  },
  {
   "cell_type": "markdown",
   "metadata": {},
   "source": [
    "### BEGIN SOLUTION\n",
    "Code above fails because `:` works with both increasing and decreasing sequences, and this leads to the loop trying to iterate over an empty vector. A fix would be to use `seq_along` instead:\n",
    "\n",
    "```\n",
    "means <- c()\n",
    "out <- vector(\"list\", length(means))\n",
    "for (i in seq_along(means)) {\n",
    "  out[[i]] <- rnorm(10, means[[i]])\n",
    "}\n",
    "```\n",
    "### END SOLUTION"
   ]
  },
  {
   "cell_type": "markdown",
   "metadata": {},
   "source": [
    "## Refactoring \n",
    "*Given a working piece of code, the learner has to modify it in some way without changing its output.*\n",
    "\n",
    "The code below calculates the column minimums of the `mtcars` data frame and returns them as a vector. Refactor the code to do this in a more efficient way (well more efficient for the humans) using a functional programming style leveraging the `purrr` package."
   ]
  },
  {
   "cell_type": "code",
   "execution_count": 84,
   "metadata": {},
   "outputs": [
    {
     "data": {
      "text/html": [
       "<ol class=list-inline>\n",
       "\t<li>10.4</li>\n",
       "\t<li>4</li>\n",
       "\t<li>71.1</li>\n",
       "\t<li>52</li>\n",
       "\t<li>2.76</li>\n",
       "\t<li>1.513</li>\n",
       "\t<li>14.5</li>\n",
       "\t<li>0</li>\n",
       "\t<li>0</li>\n",
       "\t<li>3</li>\n",
       "\t<li>1</li>\n",
       "</ol>\n"
      ],
      "text/latex": [
       "\\begin{enumerate*}\n",
       "\\item 10.4\n",
       "\\item 4\n",
       "\\item 71.1\n",
       "\\item 52\n",
       "\\item 2.76\n",
       "\\item 1.513\n",
       "\\item 14.5\n",
       "\\item 0\n",
       "\\item 0\n",
       "\\item 3\n",
       "\\item 1\n",
       "\\end{enumerate*}\n"
      ],
      "text/markdown": [
       "1. 10.4\n",
       "2. 4\n",
       "3. 71.1\n",
       "4. 52\n",
       "5. 2.76\n",
       "6. 1.513\n",
       "7. 14.5\n",
       "8. 0\n",
       "9. 0\n",
       "10. 3\n",
       "11. 1\n",
       "\n",
       "\n"
      ],
      "text/plain": [
       " [1] 10.400  4.000 71.100 52.000  2.760  1.513 14.500  0.000  0.000  3.000\n",
       "[11]  1.000"
      ]
     },
     "metadata": {},
     "output_type": "display_data"
    },
    {
     "data": {
      "text/html": [
       "'numeric'"
      ],
      "text/latex": [
       "'numeric'"
      ],
      "text/markdown": [
       "'numeric'"
      ],
      "text/plain": [
       "[1] \"numeric\""
      ]
     },
     "metadata": {},
     "output_type": "display_data"
    }
   ],
   "source": [
    "column_mins <- rep(NA, ncol(mtcars))\n",
    "for (i in 1:ncol(mtcars)){\n",
    "    column_mins[i] <- min(mtcars[,i])\n",
    "}\n",
    "column_mins"
   ]
  },
  {
   "cell_type": "code",
   "execution_count": 85,
   "metadata": {},
   "outputs": [
    {
     "data": {
      "text/html": [
       "<dl class=dl-horizontal>\n",
       "\t<dt>mpg</dt>\n",
       "\t\t<dd>10.4</dd>\n",
       "\t<dt>cyl</dt>\n",
       "\t\t<dd>4</dd>\n",
       "\t<dt>disp</dt>\n",
       "\t\t<dd>71.1</dd>\n",
       "\t<dt>hp</dt>\n",
       "\t\t<dd>52</dd>\n",
       "\t<dt>drat</dt>\n",
       "\t\t<dd>2.76</dd>\n",
       "\t<dt>wt</dt>\n",
       "\t\t<dd>1.513</dd>\n",
       "\t<dt>qsec</dt>\n",
       "\t\t<dd>14.5</dd>\n",
       "\t<dt>vs</dt>\n",
       "\t\t<dd>0</dd>\n",
       "\t<dt>am</dt>\n",
       "\t\t<dd>0</dd>\n",
       "\t<dt>gear</dt>\n",
       "\t\t<dd>3</dd>\n",
       "\t<dt>carb</dt>\n",
       "\t\t<dd>1</dd>\n",
       "</dl>\n"
      ],
      "text/latex": [
       "\\begin{description*}\n",
       "\\item[mpg] 10.4\n",
       "\\item[cyl] 4\n",
       "\\item[disp] 71.1\n",
       "\\item[hp] 52\n",
       "\\item[drat] 2.76\n",
       "\\item[wt] 1.513\n",
       "\\item[qsec] 14.5\n",
       "\\item[vs] 0\n",
       "\\item[am] 0\n",
       "\\item[gear] 3\n",
       "\\item[carb] 1\n",
       "\\end{description*}\n"
      ],
      "text/markdown": [
       "mpg\n",
       ":   10.4cyl\n",
       ":   4disp\n",
       ":   71.1hp\n",
       ":   52drat\n",
       ":   2.76wt\n",
       ":   1.513qsec\n",
       ":   14.5vs\n",
       ":   0am\n",
       ":   0gear\n",
       ":   3carb\n",
       ":   1\n",
       "\n"
      ],
      "text/plain": [
       "   mpg    cyl   disp     hp   drat     wt   qsec     vs     am   gear   carb \n",
       "10.400  4.000 71.100 52.000  2.760  1.513 14.500  0.000  0.000  3.000  1.000 "
      ]
     },
     "metadata": {},
     "output_type": "display_data"
    }
   ],
   "source": [
    "### BEGIN SOLUTION\n",
    "column_mins <- map_dbl(mtcars, min)\n",
    "column_mins\n",
    "### END SOLUTION"
   ]
  }
 ],
 "metadata": {
  "kernelspec": {
   "display_name": "R",
   "language": "R",
   "name": "ir"
  },
  "language_info": {
   "codemirror_mode": "r",
   "file_extension": ".r",
   "mimetype": "text/x-r-source",
   "name": "R",
   "pygments_lexer": "r",
   "version": "3.5.1"
  }
 },
 "nbformat": 4,
 "nbformat_minor": 2
}
